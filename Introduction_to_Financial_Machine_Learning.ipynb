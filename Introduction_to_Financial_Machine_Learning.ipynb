{
  "nbformat": 4,
  "nbformat_minor": 0,
  "metadata": {
    "colab": {
      "name": "Introduction_to_Financial_Machine_Learning.ipynb",
      "provenance": [],
      "collapsed_sections": [],
      "include_colab_link": true
    },
    "kernelspec": {
      "name": "python3",
      "display_name": "Python 3"
    }
  },
  "cells": [
    {
      "cell_type": "markdown",
      "metadata": {
        "id": "view-in-github",
        "colab_type": "text"
      },
      "source": [
        "<a href=\"https://colab.research.google.com/github/Joearrowsmith/Algothon_2019_Workshops/blob/master/Introduction_to_Financial_Machine_Learning.ipynb\" target=\"_parent\"><img src=\"https://colab.research.google.com/assets/colab-badge.svg\" alt=\"Open In Colab\"/></a>"
      ]
    },
    {
      "cell_type": "markdown",
      "metadata": {
        "id": "SQ4OKfD8KEsn",
        "colab_type": "text"
      },
      "source": [
        "<img src=\"http://2019.algothon.org/img/icon.png\" width=\"200\">\n",
        "\n",
        "# Algothon 2019 - Introduction to Financial Machine Learning"
      ]
    },
    {
      "cell_type": "markdown",
      "metadata": {
        "id": "FxeSaE4QKAtu",
        "colab_type": "text"
      },
      "source": [
        "## Topics that will be covered in this workshop:\n",
        "\n",
        "### Intro to Quant Finance:\n",
        "\n",
        "- What is a financial time series?\n",
        "- What is a momentum strategy?\n",
        "- Random walk / Non-Random walk?\n",
        "- Key Metrics\n",
        "- Normalisation \n",
        "- Managing Risk\n",
        "\n",
        "### Intro to ML:\n",
        "\n",
        "- How do we optimise?\n",
        "- What types of models are there?\n",
        "- How do we split our data?\n",
        "\n",
        "\n",
        "---\n",
        "\n"
      ]
    },
    {
      "cell_type": "markdown",
      "metadata": {
        "id": "i2uHIhDxMYLg",
        "colab_type": "text"
      },
      "source": [
        "## What is a financial time series?\n",
        "\n"
      ]
    },
    {
      "cell_type": "code",
      "metadata": {
        "id": "GjTwlQtZJ-Iw",
        "colab_type": "code",
        "colab": {}
      },
      "source": [
        "import quandl"
      ],
      "execution_count": 0,
      "outputs": []
    }
  ]
}